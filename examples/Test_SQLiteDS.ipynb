{
 "cells": [
  {
   "cell_type": "code",
   "execution_count": 1,
   "metadata": {},
   "outputs": [],
   "source": [
    "from pathlib import Path\n",
    "import os\n",
    "import sys\n",
    "\n",
    "current_location = Path(os.getcwd())\n",
    "parent_directory = current_location.parent\n",
    "\n",
    "sys.path.append(str(parent_directory))"
   ]
  },
  {
   "cell_type": "code",
   "execution_count": 2,
   "metadata": {},
   "outputs": [],
   "source": [
    "from data_platform.datasource import SQLiteDS\n",
    "from data_platform.config import ConfigManager"
   ]
  },
  {
   "cell_type": "code",
   "execution_count": 3,
   "metadata": {},
   "outputs": [],
   "source": [
    "current_path = Path(os.getcwd())\n",
    "data_path = current_path / 'data'\n",
    "sqlite_path = data_path / 'sqlite' / 'data.db'"
   ]
  },
  {
   "cell_type": "code",
   "execution_count": 4,
   "metadata": {},
   "outputs": [],
   "source": [
    "sample_table1 = {\n",
    "    ('table1', \"row1\"): {\"col1\": 1, \"col2\": 2, \"col3\": 3, \"col4\": 4, \"col5\": 5},\n",
    "    ('table1', \"row2\"): {\"col2\": 2, \"col3\": 3, \"col4\": 4, \"col5\": 5, \"col6\": 6, 'foo': 'baz'},\n",
    "    ('table1', \"go_user1\"): {'name': 'player', 'nickname': 'boo', 'from': 'pa', 'li': ['unique', 'foo']},\n",
    "    ('table1', \"matrix1\"): {'content': [[1, 0, 0], [0, 1, 0], [0, 0, 1]]}\n",
    "}\n",
    "\n",
    "sample_table2 = {\n",
    "    ('table2', \"1\"): {\"col1\": 1, \"col2\": 2, \"col3\": 3, \"col4\": 4, \"col5\": 5},\n",
    "    ('table2', \"22\"): {\"col2\": 2, \"col3\": 3, \"col4\": 4, \"col5\": 5, \"col6\": 6, 'foo': 'baz'},\n",
    "    ('table2', \"333\"): {'name': 'player', 'nickname': 'boo', 'from': 'pa', 'li': ['unique', 'foo']},\n",
    "    ('table2', \"4444\"): {'content': [[1, 0, 0], [0, 1, 0], [0, 0, 1]]}\n",
    "}"
   ]
  },
  {
   "cell_type": "code",
   "execution_count": 5,
   "metadata": {},
   "outputs": [],
   "source": [
    "config = ConfigManager({'init': {'location': sqlite_path}})\n",
    "ds = SQLiteDS(config)"
   ]
  },
  {
   "cell_type": "code",
   "execution_count": 6,
   "metadata": {},
   "outputs": [],
   "source": [
    "ds.create_table('table1')\n",
    "ds.create_table('table2')"
   ]
  },
  {
   "cell_type": "code",
   "execution_count": 7,
   "metadata": {
    "scrolled": true
   },
   "outputs": [
    {
     "name": "stdout",
     "output_type": "stream",
     "text": [
      "[RowKeyPair(table_name='table1', row_name='row1')]\n",
      "[RowKeyPair(table_name='table1', row_name='row2')]\n",
      "[RowKeyPair(table_name='table1', row_name='go_user1')]\n",
      "[RowKeyPair(table_name='table1', row_name='matrix1')]\n",
      "[RowKeyPair(table_name='table2', row_name='1')]\n",
      "[RowKeyPair(table_name='table2', row_name='22')]\n",
      "[RowKeyPair(table_name='table2', row_name='333')]\n",
      "[RowKeyPair(table_name='table2', row_name='4444')]\n"
     ]
    }
   ],
   "source": [
    "for row_key, row_data in sample_table1.items():\n",
    "    print(ds.create_row(row_key, row_data))\n",
    "\n",
    "for row_key, row_data in sample_table2.items():\n",
    "    print(ds.create_row(row_key, row_data))"
   ]
  },
  {
   "cell_type": "code",
   "execution_count": 8,
   "metadata": {
    "scrolled": true
   },
   "outputs": [
    {
     "data": {
      "text/plain": [
       "{RowKeyPair(table_name='table2', row_name='1'): {'col1': 1,\n",
       "  'col2': 2,\n",
       "  'col3': 3,\n",
       "  'col4': 4,\n",
       "  'col5': 5},\n",
       " RowKeyPair(table_name='table2', row_name='22'): {'col2': 2,\n",
       "  'col3': 3,\n",
       "  'col4': 4,\n",
       "  'col5': 5,\n",
       "  'col6': 6,\n",
       "  'foo': 'baz'},\n",
       " RowKeyPair(table_name='table2', row_name='333'): {'name': 'player',\n",
       "  'nickname': 'boo',\n",
       "  'from': 'pa',\n",
       "  'li': ['unique', 'foo']},\n",
       " RowKeyPair(table_name='table2', row_name='4444'): {'content': [[1, 0, 0],\n",
       "   [0, 1, 0],\n",
       "   [0, 0, 1]]},\n",
       " RowKeyPair(table_name='table1', row_name='row1'): {'col1': 1,\n",
       "  'col2': 2,\n",
       "  'col3': 3,\n",
       "  'col4': 4,\n",
       "  'col5': 5},\n",
       " RowKeyPair(table_name='table1', row_name='row2'): {'col2': 2,\n",
       "  'col3': 3,\n",
       "  'col4': 4,\n",
       "  'col5': 5,\n",
       "  'col6': 6,\n",
       "  'foo': 'baz'},\n",
       " RowKeyPair(table_name='table1', row_name='go_user1'): {'name': 'player',\n",
       "  'nickname': 'boo',\n",
       "  'from': 'pa',\n",
       "  'li': ['unique', 'foo']},\n",
       " RowKeyPair(table_name='table1', row_name='matrix1'): {'content': [[1, 0, 0],\n",
       "   [0, 1, 0],\n",
       "   [0, 0, 1]]}}"
      ]
     },
     "execution_count": 8,
     "metadata": {},
     "output_type": "execute_result"
    }
   ],
   "source": [
    "ds.read_row()"
   ]
  },
  {
   "cell_type": "code",
   "execution_count": 9,
   "metadata": {},
   "outputs": [
    {
     "data": {
      "text/plain": [
       "[RowKeyPair(table_name='table2', row_name='row1'),\n",
       " RowKeyPair(table_name='table1', row_name='row1')]"
      ]
     },
     "execution_count": 9,
     "metadata": {},
     "output_type": "execute_result"
    }
   ],
   "source": [
    "ds.update_row(('@*', 'row1'), {'new_column': 1})"
   ]
  },
  {
   "cell_type": "code",
   "execution_count": 10,
   "metadata": {},
   "outputs": [
    {
     "data": {
      "text/plain": [
       "{RowKeyPair(table_name='table1', row_name='row1'): {'col1': 1,\n",
       "  'col2': 2,\n",
       "  'col3': 3,\n",
       "  'col4': 4,\n",
       "  'col5': 5,\n",
       "  'new_column': 1}}"
      ]
     },
     "execution_count": 10,
     "metadata": {},
     "output_type": "execute_result"
    }
   ],
   "source": [
    "ds.read_row(('table1', 'row1'))"
   ]
  },
  {
   "cell_type": "code",
   "execution_count": 11,
   "metadata": {},
   "outputs": [
    {
     "data": {
      "text/plain": [
       "4"
      ]
     },
     "execution_count": 11,
     "metadata": {},
     "output_type": "execute_result"
    }
   ],
   "source": [
    "ds.delete_row(('table1', '@*'))"
   ]
  },
  {
   "cell_type": "code",
   "execution_count": 12,
   "metadata": {},
   "outputs": [
    {
     "data": {
      "text/plain": [
       "{RowKeyPair(table_name='table2', row_name='1'): {'col1': 1,\n",
       "  'col2': 2,\n",
       "  'col3': 3,\n",
       "  'col4': 4,\n",
       "  'col5': 5},\n",
       " RowKeyPair(table_name='table2', row_name='22'): {'col2': 2,\n",
       "  'col3': 3,\n",
       "  'col4': 4,\n",
       "  'col5': 5,\n",
       "  'col6': 6,\n",
       "  'foo': 'baz'},\n",
       " RowKeyPair(table_name='table2', row_name='333'): {'name': 'player',\n",
       "  'nickname': 'boo',\n",
       "  'from': 'pa',\n",
       "  'li': ['unique', 'foo']},\n",
       " RowKeyPair(table_name='table2', row_name='4444'): {'content': [[1, 0, 0],\n",
       "   [0, 1, 0],\n",
       "   [0, 0, 1]]},\n",
       " RowKeyPair(table_name='table2', row_name='row1'): {'new_column': 1}}"
      ]
     },
     "execution_count": 12,
     "metadata": {},
     "output_type": "execute_result"
    }
   ],
   "source": [
    "ds.read_row()"
   ]
  },
  {
   "cell_type": "code",
   "execution_count": 13,
   "metadata": {},
   "outputs": [],
   "source": [
    "ds.delete_table('table1')\n",
    "ds.delete_table('table2')"
   ]
  },
  {
   "cell_type": "code",
   "execution_count": null,
   "metadata": {},
   "outputs": [],
   "source": []
  }
 ],
 "metadata": {
  "hide_input": false,
  "kernelspec": {
   "display_name": "Python 3.7 (KnowNet)",
   "language": "python",
   "name": "knownet"
  },
  "language_info": {
   "codemirror_mode": {
    "name": "ipython",
    "version": 3
   },
   "file_extension": ".py",
   "mimetype": "text/x-python",
   "name": "python",
   "nbconvert_exporter": "python",
   "pygments_lexer": "ipython3",
   "version": "3.7.1"
  },
  "toc": {
   "base_numbering": 1,
   "nav_menu": {},
   "number_sections": true,
   "sideBar": true,
   "skip_h1_title": false,
   "title_cell": "Table of Contents",
   "title_sidebar": "Contents",
   "toc_cell": false,
   "toc_position": {},
   "toc_section_display": true,
   "toc_window_display": false
  },
  "varInspector": {
   "cols": {
    "lenName": 16,
    "lenType": 16,
    "lenVar": 40
   },
   "kernels_config": {
    "python": {
     "delete_cmd_postfix": "",
     "delete_cmd_prefix": "del ",
     "library": "var_list.py",
     "varRefreshCmd": "print(var_dic_list())"
    },
    "r": {
     "delete_cmd_postfix": ") ",
     "delete_cmd_prefix": "rm(",
     "library": "var_list.r",
     "varRefreshCmd": "cat(var_dic_list()) "
    }
   },
   "types_to_exclude": [
    "module",
    "function",
    "builtin_function_or_method",
    "instance",
    "_Feature"
   ],
   "window_display": false
  }
 },
 "nbformat": 4,
 "nbformat_minor": 2
}
