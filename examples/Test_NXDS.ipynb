{
 "cells": [
  {
   "cell_type": "code",
   "execution_count": 1,
   "metadata": {},
   "outputs": [],
   "source": [
    "from pathlib import Path\n",
    "import os\n",
    "import sys\n",
    "\n",
    "current_location = Path(os.getcwd())\n",
    "parent_directory = current_location.parent\n",
    "\n",
    "sys.path.append(str(parent_directory))"
   ]
  },
  {
   "cell_type": "code",
   "execution_count": 2,
   "metadata": {},
   "outputs": [],
   "source": [
    "from data_platform.config import ConfigManager\n",
    "from data_platform.datasource.networkx import NetworkXDS, GraphValType"
   ]
  },
  {
   "cell_type": "code",
   "execution_count": 4,
   "metadata": {},
   "outputs": [],
   "source": [
    "current_location = Path(os.getcwd())\n",
    "data_location = current_location / 'data'\n",
    "graph_location = data_location / 'graph'"
   ]
  },
  {
   "cell_type": "code",
   "execution_count": 5,
   "metadata": {},
   "outputs": [],
   "source": [
    "config = ConfigManager({\n",
    "    \"init\": {\n",
    "        \"location\": graph_location\n",
    "    }\n",
    "})"
   ]
  },
  {
   "cell_type": "code",
   "execution_count": 6,
   "metadata": {},
   "outputs": [],
   "source": [
    "nxds = NetworkXDS(config)"
   ]
  },
  {
   "cell_type": "code",
   "execution_count": 7,
   "metadata": {},
   "outputs": [],
   "source": [
    "sample_graph1 = GraphValType(\n",
    "    graph_type = \"Graph\",\n",
    "    attr = {\n",
    "        \"graph_name\": \"Sample Graph 1\"\n",
    "    },\n",
    "    nodes = [\n",
    "        0,\n",
    "        1,\n",
    "        2,\n",
    "        3,\n",
    "        'foo',\n",
    "        'baz'\n",
    "    ],\n",
    "    edges = [\n",
    "        (0, 1),\n",
    "        (1, 2),\n",
    "        (2, 3),\n",
    "        (1, 'foo'),\n",
    "        (0, 'baz')\n",
    "    ],\n",
    "    node_attr = {\n",
    "        'color': 'red',\n",
    "        'page_rank': 5\n",
    "    },\n",
    "    edge_attr = {\n",
    "        'weight': 0.5\n",
    "    }\n",
    ")\n",
    "\n",
    "sample_graph2 = GraphValType(\n",
    "    graph_type = \"DiGraph\",\n",
    "    attr = {\n",
    "        \"graph_name\": \"Sample Graph 2\"\n",
    "    },\n",
    "    nodes = [\n",
    "        0,\n",
    "        1,\n",
    "        2,\n",
    "        3,\n",
    "        'foo',\n",
    "        'baz'\n",
    "    ],\n",
    "    edges = [\n",
    "        (0, 1),\n",
    "        (1, 2),\n",
    "        (2, 0),\n",
    "        (2, 3),\n",
    "        (3, 2),\n",
    "        (1, 'foo'),\n",
    "        (0, 'baz')\n",
    "    ],\n",
    "    node_attr = {\n",
    "        'color': 'green',\n",
    "        'page_rank': 3\n",
    "    },\n",
    "    edge_attr = {\n",
    "        'weight': 0.1\n",
    "    }\n",
    ")\n",
    "\n",
    "sample_node = ('foo', 0)\n",
    "sample_edge = ('foo', (0, 2))"
   ]
  },
  {
   "cell_type": "markdown",
   "metadata": {},
   "source": [
    "## Create"
   ]
  },
  {
   "cell_type": "markdown",
   "metadata": {},
   "source": [
    "### 默认向 `_default` 创建图"
   ]
  },
  {
   "cell_type": "code",
   "execution_count": 8,
   "metadata": {},
   "outputs": [
    {
     "data": {
      "text/plain": [
       "['_default']"
      ]
     },
     "execution_count": 8,
     "metadata": {},
     "output_type": "execute_result"
    }
   ],
   "source": [
    "nxds.create_graph(val=sample_graph1)"
   ]
  },
  {
   "cell_type": "markdown",
   "metadata": {},
   "source": [
    "### 一次性创建多个同样的图"
   ]
  },
  {
   "cell_type": "code",
   "execution_count": 9,
   "metadata": {},
   "outputs": [
    {
     "data": {
      "text/plain": [
       "['graph2', 'graph3', 'graph4']"
      ]
     },
     "execution_count": 9,
     "metadata": {},
     "output_type": "execute_result"
    }
   ],
   "source": [
    "nxds.create_graph(key=['graph2', 'graph3', 'graph4'], val = sample_graph2)"
   ]
  },
  {
   "cell_type": "code",
   "execution_count": 10,
   "metadata": {},
   "outputs": [
    {
     "data": {
      "text/plain": [
       "['foo']"
      ]
     },
     "execution_count": 10,
     "metadata": {},
     "output_type": "execute_result"
    }
   ],
   "source": [
    "nxds.create_graph(key='foo')"
   ]
  },
  {
   "cell_type": "code",
   "execution_count": 11,
   "metadata": {},
   "outputs": [
    {
     "data": {
      "text/plain": [
       "[('foo', 0)]"
      ]
     },
     "execution_count": 11,
     "metadata": {},
     "output_type": "execute_result"
    }
   ],
   "source": [
    "nxds.create_node(sample_node, val = {'blah': True})"
   ]
  },
  {
   "cell_type": "code",
   "execution_count": 12,
   "metadata": {},
   "outputs": [
    {
     "data": {
      "text/plain": [
       "[('foo', (0, 2))]"
      ]
     },
     "execution_count": 12,
     "metadata": {},
     "output_type": "execute_result"
    }
   ],
   "source": [
    "nxds.create_edge(sample_edge, {'baz': False})"
   ]
  },
  {
   "cell_type": "markdown",
   "metadata": {},
   "source": [
    "## Read"
   ]
  },
  {
   "cell_type": "markdown",
   "metadata": {},
   "source": [
    "### 默认读取所有图"
   ]
  },
  {
   "cell_type": "code",
   "execution_count": 13,
   "metadata": {},
   "outputs": [
    {
     "data": {
      "text/plain": [
       "{'_default': <networkx.classes.graph.Graph at 0x19d35d9e7f0>,\n",
       " 'graph2': <networkx.classes.digraph.DiGraph at 0x19d35d9ec50>,\n",
       " 'graph3': <networkx.classes.digraph.DiGraph at 0x19d35d9ec88>,\n",
       " 'graph4': <networkx.classes.digraph.DiGraph at 0x19d35d9ecc0>,\n",
       " 'foo': <networkx.classes.graph.Graph at 0x19d35d9eba8>}"
      ]
     },
     "execution_count": 13,
     "metadata": {},
     "output_type": "execute_result"
    }
   ],
   "source": [
    "nxds.read_graph()"
   ]
  },
  {
   "cell_type": "markdown",
   "metadata": {},
   "source": [
    "### 图属性在对象的.graph里（NetworkX特性）"
   ]
  },
  {
   "cell_type": "code",
   "execution_count": 14,
   "metadata": {},
   "outputs": [
    {
     "data": {
      "text/plain": [
       "{'graph_name': 'Sample Graph 1'}"
      ]
     },
     "execution_count": 14,
     "metadata": {},
     "output_type": "execute_result"
    }
   ],
   "source": [
    "nxds.read_graph('_default')['_default'].graph"
   ]
  },
  {
   "cell_type": "markdown",
   "metadata": {},
   "source": [
    "### 默认读取所有节点"
   ]
  },
  {
   "cell_type": "code",
   "execution_count": 15,
   "metadata": {},
   "outputs": [
    {
     "data": {
      "text/plain": [
       "{NodeKeyPair(graph_name='_default', node_name=0): {'color': 'red',\n",
       "  'page_rank': 5},\n",
       " NodeKeyPair(graph_name='_default', node_name=1): {'color': 'red',\n",
       "  'page_rank': 5},\n",
       " NodeKeyPair(graph_name='_default', node_name=2): {'color': 'red',\n",
       "  'page_rank': 5},\n",
       " NodeKeyPair(graph_name='_default', node_name=3): {'color': 'red',\n",
       "  'page_rank': 5},\n",
       " NodeKeyPair(graph_name='_default', node_name='foo'): {'color': 'red',\n",
       "  'page_rank': 5},\n",
       " NodeKeyPair(graph_name='_default', node_name='baz'): {'color': 'red',\n",
       "  'page_rank': 5},\n",
       " NodeKeyPair(graph_name='graph2', node_name=0): {'color': 'green',\n",
       "  'page_rank': 3},\n",
       " NodeKeyPair(graph_name='graph2', node_name=1): {'color': 'green',\n",
       "  'page_rank': 3},\n",
       " NodeKeyPair(graph_name='graph2', node_name=2): {'color': 'green',\n",
       "  'page_rank': 3},\n",
       " NodeKeyPair(graph_name='graph2', node_name=3): {'color': 'green',\n",
       "  'page_rank': 3},\n",
       " NodeKeyPair(graph_name='graph2', node_name='foo'): {'color': 'green',\n",
       "  'page_rank': 3},\n",
       " NodeKeyPair(graph_name='graph2', node_name='baz'): {'color': 'green',\n",
       "  'page_rank': 3},\n",
       " NodeKeyPair(graph_name='graph3', node_name=0): {'color': 'green',\n",
       "  'page_rank': 3},\n",
       " NodeKeyPair(graph_name='graph3', node_name=1): {'color': 'green',\n",
       "  'page_rank': 3},\n",
       " NodeKeyPair(graph_name='graph3', node_name=2): {'color': 'green',\n",
       "  'page_rank': 3},\n",
       " NodeKeyPair(graph_name='graph3', node_name=3): {'color': 'green',\n",
       "  'page_rank': 3},\n",
       " NodeKeyPair(graph_name='graph3', node_name='foo'): {'color': 'green',\n",
       "  'page_rank': 3},\n",
       " NodeKeyPair(graph_name='graph3', node_name='baz'): {'color': 'green',\n",
       "  'page_rank': 3},\n",
       " NodeKeyPair(graph_name='graph4', node_name=0): {'color': 'green',\n",
       "  'page_rank': 3},\n",
       " NodeKeyPair(graph_name='graph4', node_name=1): {'color': 'green',\n",
       "  'page_rank': 3},\n",
       " NodeKeyPair(graph_name='graph4', node_name=2): {'color': 'green',\n",
       "  'page_rank': 3},\n",
       " NodeKeyPair(graph_name='graph4', node_name=3): {'color': 'green',\n",
       "  'page_rank': 3},\n",
       " NodeKeyPair(graph_name='graph4', node_name='foo'): {'color': 'green',\n",
       "  'page_rank': 3},\n",
       " NodeKeyPair(graph_name='graph4', node_name='baz'): {'color': 'green',\n",
       "  'page_rank': 3},\n",
       " NodeKeyPair(graph_name='foo', node_name=0): {'blah': True},\n",
       " NodeKeyPair(graph_name='foo', node_name=2): {}}"
      ]
     },
     "execution_count": 15,
     "metadata": {},
     "output_type": "execute_result"
    }
   ],
   "source": [
    "nxds.read_node()"
   ]
  },
  {
   "cell_type": "markdown",
   "metadata": {},
   "source": [
    "### 通配符过滤（所有图中名为0的节点）"
   ]
  },
  {
   "cell_type": "code",
   "execution_count": 16,
   "metadata": {},
   "outputs": [
    {
     "data": {
      "text/plain": [
       "{NodeKeyPair(graph_name='_default', node_name=0): {'color': 'red',\n",
       "  'page_rank': 5},\n",
       " NodeKeyPair(graph_name='graph2', node_name=0): {'color': 'green',\n",
       "  'page_rank': 3},\n",
       " NodeKeyPair(graph_name='graph3', node_name=0): {'color': 'green',\n",
       "  'page_rank': 3},\n",
       " NodeKeyPair(graph_name='graph4', node_name=0): {'color': 'green',\n",
       "  'page_rank': 3},\n",
       " NodeKeyPair(graph_name='foo', node_name=0): {'blah': True}}"
      ]
     },
     "execution_count": 16,
     "metadata": {},
     "output_type": "execute_result"
    }
   ],
   "source": [
    "nxds.read_node(('@*', 0))"
   ]
  },
  {
   "cell_type": "markdown",
   "metadata": {},
   "source": [
    "### 默认读取所有边"
   ]
  },
  {
   "cell_type": "code",
   "execution_count": 17,
   "metadata": {},
   "outputs": [
    {
     "data": {
      "text/plain": [
       "{EdgeKeyPair(graph_name='_default', edge_name=EdgeNamePair(node1=0, node2=1)): {'weight': 0.5},\n",
       " EdgeKeyPair(graph_name='_default', edge_name=EdgeNamePair(node1=0, node2='baz')): {'weight': 0.5},\n",
       " EdgeKeyPair(graph_name='_default', edge_name=EdgeNamePair(node1=1, node2=2)): {'weight': 0.5},\n",
       " EdgeKeyPair(graph_name='_default', edge_name=EdgeNamePair(node1=1, node2='foo')): {'weight': 0.5},\n",
       " EdgeKeyPair(graph_name='_default', edge_name=EdgeNamePair(node1=2, node2=3)): {'weight': 0.5},\n",
       " EdgeKeyPair(graph_name='graph2', edge_name=EdgeNamePair(node1=0, node2=1)): {'weight': 0.1},\n",
       " EdgeKeyPair(graph_name='graph2', edge_name=EdgeNamePair(node1=0, node2='baz')): {'weight': 0.1},\n",
       " EdgeKeyPair(graph_name='graph2', edge_name=EdgeNamePair(node1=1, node2=2)): {'weight': 0.1},\n",
       " EdgeKeyPair(graph_name='graph2', edge_name=EdgeNamePair(node1=1, node2='foo')): {'weight': 0.1},\n",
       " EdgeKeyPair(graph_name='graph2', edge_name=EdgeNamePair(node1=2, node2=0)): {'weight': 0.1},\n",
       " EdgeKeyPair(graph_name='graph2', edge_name=EdgeNamePair(node1=2, node2=3)): {'weight': 0.1},\n",
       " EdgeKeyPair(graph_name='graph2', edge_name=EdgeNamePair(node1=3, node2=2)): {'weight': 0.1},\n",
       " EdgeKeyPair(graph_name='graph3', edge_name=EdgeNamePair(node1=0, node2=1)): {'weight': 0.1},\n",
       " EdgeKeyPair(graph_name='graph3', edge_name=EdgeNamePair(node1=0, node2='baz')): {'weight': 0.1},\n",
       " EdgeKeyPair(graph_name='graph3', edge_name=EdgeNamePair(node1=1, node2=2)): {'weight': 0.1},\n",
       " EdgeKeyPair(graph_name='graph3', edge_name=EdgeNamePair(node1=1, node2='foo')): {'weight': 0.1},\n",
       " EdgeKeyPair(graph_name='graph3', edge_name=EdgeNamePair(node1=2, node2=0)): {'weight': 0.1},\n",
       " EdgeKeyPair(graph_name='graph3', edge_name=EdgeNamePair(node1=2, node2=3)): {'weight': 0.1},\n",
       " EdgeKeyPair(graph_name='graph3', edge_name=EdgeNamePair(node1=3, node2=2)): {'weight': 0.1},\n",
       " EdgeKeyPair(graph_name='graph4', edge_name=EdgeNamePair(node1=0, node2=1)): {'weight': 0.1},\n",
       " EdgeKeyPair(graph_name='graph4', edge_name=EdgeNamePair(node1=0, node2='baz')): {'weight': 0.1},\n",
       " EdgeKeyPair(graph_name='graph4', edge_name=EdgeNamePair(node1=1, node2=2)): {'weight': 0.1},\n",
       " EdgeKeyPair(graph_name='graph4', edge_name=EdgeNamePair(node1=1, node2='foo')): {'weight': 0.1},\n",
       " EdgeKeyPair(graph_name='graph4', edge_name=EdgeNamePair(node1=2, node2=0)): {'weight': 0.1},\n",
       " EdgeKeyPair(graph_name='graph4', edge_name=EdgeNamePair(node1=2, node2=3)): {'weight': 0.1},\n",
       " EdgeKeyPair(graph_name='graph4', edge_name=EdgeNamePair(node1=3, node2=2)): {'weight': 0.1},\n",
       " EdgeKeyPair(graph_name='foo', edge_name=EdgeNamePair(node1=0, node2=2)): {'baz': False}}"
      ]
     },
     "execution_count": 17,
     "metadata": {},
     "output_type": "execute_result"
    }
   ],
   "source": [
    "nxds.read_edge()"
   ]
  },
  {
   "cell_type": "markdown",
   "metadata": {},
   "source": [
    "### 通配符过滤（所有图中指向0节点的边）\n",
    "\n",
    "PS：注意Graph没有出入边区别，这么写通配符会自动转换为同0相连的边（未来有可能会在logger里面加个warning）"
   ]
  },
  {
   "cell_type": "code",
   "execution_count": 18,
   "metadata": {},
   "outputs": [
    {
     "data": {
      "text/plain": [
       "{EdgeKeyPair(graph_name='_default', edge_name=EdgeNamePair(node1=0, node2=1)): {'weight': 0.5},\n",
       " EdgeKeyPair(graph_name='_default', edge_name=EdgeNamePair(node1=0, node2='baz')): {'weight': 0.5},\n",
       " EdgeKeyPair(graph_name='graph2', edge_name=EdgeNamePair(node1=2, node2=0)): {'weight': 0.1},\n",
       " EdgeKeyPair(graph_name='graph3', edge_name=EdgeNamePair(node1=2, node2=0)): {'weight': 0.1},\n",
       " EdgeKeyPair(graph_name='graph4', edge_name=EdgeNamePair(node1=2, node2=0)): {'weight': 0.1},\n",
       " EdgeKeyPair(graph_name='foo', edge_name=EdgeNamePair(node1=0, node2=2)): {'baz': False}}"
      ]
     },
     "execution_count": 18,
     "metadata": {},
     "output_type": "execute_result"
    }
   ],
   "source": [
    "nxds.read_edge(('@*', ('@*', 0)))"
   ]
  },
  {
   "cell_type": "markdown",
   "metadata": {},
   "source": [
    "## Update"
   ]
  },
  {
   "cell_type": "code",
   "execution_count": 19,
   "metadata": {},
   "outputs": [
    {
     "data": {
      "text/plain": [
       "['_default']"
      ]
     },
     "execution_count": 19,
     "metadata": {},
     "output_type": "execute_result"
    }
   ],
   "source": [
    "nxds.update_graph(val = GraphValType(\n",
    "    attr = {\n",
    "        'graph_title': 'A New Graph'\n",
    "    },\n",
    "    nodes = [\n",
    "        7, 8, 9\n",
    "    ],\n",
    "    edges = [\n",
    "        (7, 8),\n",
    "        (9, 7)\n",
    "    ],\n",
    "    node_attr = {\n",
    "        'role': 'follower'\n",
    "    },\n",
    "    edge_attr = {\n",
    "        'create_date': '2018-01-20'\n",
    "    }\n",
    "))"
   ]
  },
  {
   "cell_type": "code",
   "execution_count": 20,
   "metadata": {},
   "outputs": [
    {
     "data": {
      "text/plain": [
       "{'graph_name': 'Sample Graph 1', 'graph_title': 'A New Graph'}"
      ]
     },
     "execution_count": 20,
     "metadata": {},
     "output_type": "execute_result"
    }
   ],
   "source": [
    "nxds.read_graph('_default')['_default'].graph"
   ]
  },
  {
   "cell_type": "code",
   "execution_count": 21,
   "metadata": {},
   "outputs": [
    {
     "data": {
      "text/plain": [
       "[NodeKeyPair(graph_name='foo', node_name=0)]"
      ]
     },
     "execution_count": 21,
     "metadata": {},
     "output_type": "execute_result"
    }
   ],
   "source": [
    "nxds.update_node(('foo', 0), {'build': 'yes'})"
   ]
  },
  {
   "cell_type": "code",
   "execution_count": 22,
   "metadata": {},
   "outputs": [
    {
     "data": {
      "text/plain": [
       "{NodeKeyPair(graph_name='foo', node_name=0): {'blah': True, 'build': 'yes'}}"
      ]
     },
     "execution_count": 22,
     "metadata": {},
     "output_type": "execute_result"
    }
   ],
   "source": [
    "nxds.read_node(('foo', 0))"
   ]
  },
  {
   "cell_type": "code",
   "execution_count": 23,
   "metadata": {},
   "outputs": [
    {
     "data": {
      "text/plain": [
       "[EdgeKeyPair(graph_name='foo', edge_name=EdgeNamePair(node1=0, node2=2))]"
      ]
     },
     "execution_count": 23,
     "metadata": {},
     "output_type": "execute_result"
    }
   ],
   "source": [
    "nxds.update_edge(('foo', (0, 2)), {'hello': 'world'})"
   ]
  },
  {
   "cell_type": "code",
   "execution_count": 24,
   "metadata": {},
   "outputs": [
    {
     "data": {
      "text/plain": [
       "{EdgeKeyPair(graph_name='foo', edge_name=EdgeNamePair(node1=0, node2=2)): {'baz': False,\n",
       "  'hello': 'world'}}"
      ]
     },
     "execution_count": 24,
     "metadata": {},
     "output_type": "execute_result"
    }
   ],
   "source": [
    "nxds.read_edge(('foo', (0, 2)))"
   ]
  },
  {
   "cell_type": "markdown",
   "metadata": {},
   "source": [
    "## Delete"
   ]
  },
  {
   "cell_type": "code",
   "execution_count": 25,
   "metadata": {},
   "outputs": [
    {
     "data": {
      "text/plain": [
       "1"
      ]
     },
     "execution_count": 25,
     "metadata": {},
     "output_type": "execute_result"
    }
   ],
   "source": [
    "nxds.delete_graph('foo')"
   ]
  },
  {
   "cell_type": "code",
   "execution_count": 26,
   "metadata": {},
   "outputs": [
    {
     "data": {
      "text/plain": [
       "{'_default': <networkx.classes.graph.Graph at 0x19d35d9e7f0>,\n",
       " 'graph2': <networkx.classes.digraph.DiGraph at 0x19d35d9ec50>,\n",
       " 'graph3': <networkx.classes.digraph.DiGraph at 0x19d35d9ec88>,\n",
       " 'graph4': <networkx.classes.digraph.DiGraph at 0x19d35d9ecc0>}"
      ]
     },
     "execution_count": 26,
     "metadata": {},
     "output_type": "execute_result"
    }
   ],
   "source": [
    "nxds.read_graph()"
   ]
  },
  {
   "cell_type": "code",
   "execution_count": 27,
   "metadata": {},
   "outputs": [
    {
     "data": {
      "text/plain": [
       "1"
      ]
     },
     "execution_count": 27,
     "metadata": {},
     "output_type": "execute_result"
    }
   ],
   "source": [
    "nxds.delete_graph()"
   ]
  },
  {
   "cell_type": "code",
   "execution_count": 28,
   "metadata": {},
   "outputs": [
    {
     "data": {
      "text/plain": [
       "{'graph2': <networkx.classes.digraph.DiGraph at 0x19d35d9ec50>,\n",
       " 'graph3': <networkx.classes.digraph.DiGraph at 0x19d35d9ec88>,\n",
       " 'graph4': <networkx.classes.digraph.DiGraph at 0x19d35d9ecc0>}"
      ]
     },
     "execution_count": 28,
     "metadata": {},
     "output_type": "execute_result"
    }
   ],
   "source": [
    "nxds.read_graph()"
   ]
  },
  {
   "cell_type": "code",
   "execution_count": 29,
   "metadata": {},
   "outputs": [
    {
     "data": {
      "text/plain": [
       "3"
      ]
     },
     "execution_count": 29,
     "metadata": {},
     "output_type": "execute_result"
    }
   ],
   "source": [
    "nxds.delete_node(('@*', 0))"
   ]
  },
  {
   "cell_type": "code",
   "execution_count": 30,
   "metadata": {},
   "outputs": [
    {
     "data": {
      "text/plain": [
       "{NodeKeyPair(graph_name='graph2', node_name=1): {'color': 'green',\n",
       "  'page_rank': 3},\n",
       " NodeKeyPair(graph_name='graph2', node_name=2): {'color': 'green',\n",
       "  'page_rank': 3},\n",
       " NodeKeyPair(graph_name='graph2', node_name=3): {'color': 'green',\n",
       "  'page_rank': 3},\n",
       " NodeKeyPair(graph_name='graph2', node_name='foo'): {'color': 'green',\n",
       "  'page_rank': 3},\n",
       " NodeKeyPair(graph_name='graph2', node_name='baz'): {'color': 'green',\n",
       "  'page_rank': 3},\n",
       " NodeKeyPair(graph_name='graph3', node_name=1): {'color': 'green',\n",
       "  'page_rank': 3},\n",
       " NodeKeyPair(graph_name='graph3', node_name=2): {'color': 'green',\n",
       "  'page_rank': 3},\n",
       " NodeKeyPair(graph_name='graph3', node_name=3): {'color': 'green',\n",
       "  'page_rank': 3},\n",
       " NodeKeyPair(graph_name='graph3', node_name='foo'): {'color': 'green',\n",
       "  'page_rank': 3},\n",
       " NodeKeyPair(graph_name='graph3', node_name='baz'): {'color': 'green',\n",
       "  'page_rank': 3},\n",
       " NodeKeyPair(graph_name='graph4', node_name=1): {'color': 'green',\n",
       "  'page_rank': 3},\n",
       " NodeKeyPair(graph_name='graph4', node_name=2): {'color': 'green',\n",
       "  'page_rank': 3},\n",
       " NodeKeyPair(graph_name='graph4', node_name=3): {'color': 'green',\n",
       "  'page_rank': 3},\n",
       " NodeKeyPair(graph_name='graph4', node_name='foo'): {'color': 'green',\n",
       "  'page_rank': 3},\n",
       " NodeKeyPair(graph_name='graph4', node_name='baz'): {'color': 'green',\n",
       "  'page_rank': 3}}"
      ]
     },
     "execution_count": 30,
     "metadata": {},
     "output_type": "execute_result"
    }
   ],
   "source": [
    "nxds.read_node()"
   ]
  },
  {
   "cell_type": "code",
   "execution_count": 31,
   "metadata": {
    "scrolled": true
   },
   "outputs": [
    {
     "data": {
      "text/plain": [
       "3"
      ]
     },
     "execution_count": 31,
     "metadata": {},
     "output_type": "execute_result"
    }
   ],
   "source": [
    "nxds.delete_edge(('@*', (2, '@*')))"
   ]
  },
  {
   "cell_type": "code",
   "execution_count": 32,
   "metadata": {},
   "outputs": [
    {
     "data": {
      "text/plain": [
       "{EdgeKeyPair(graph_name='graph2', edge_name=EdgeNamePair(node1=1, node2=2)): {'weight': 0.1},\n",
       " EdgeKeyPair(graph_name='graph2', edge_name=EdgeNamePair(node1=1, node2='foo')): {'weight': 0.1},\n",
       " EdgeKeyPair(graph_name='graph2', edge_name=EdgeNamePair(node1=3, node2=2)): {'weight': 0.1},\n",
       " EdgeKeyPair(graph_name='graph3', edge_name=EdgeNamePair(node1=1, node2=2)): {'weight': 0.1},\n",
       " EdgeKeyPair(graph_name='graph3', edge_name=EdgeNamePair(node1=1, node2='foo')): {'weight': 0.1},\n",
       " EdgeKeyPair(graph_name='graph3', edge_name=EdgeNamePair(node1=3, node2=2)): {'weight': 0.1},\n",
       " EdgeKeyPair(graph_name='graph4', edge_name=EdgeNamePair(node1=1, node2=2)): {'weight': 0.1},\n",
       " EdgeKeyPair(graph_name='graph4', edge_name=EdgeNamePair(node1=1, node2='foo')): {'weight': 0.1},\n",
       " EdgeKeyPair(graph_name='graph4', edge_name=EdgeNamePair(node1=3, node2=2)): {'weight': 0.1}}"
      ]
     },
     "execution_count": 32,
     "metadata": {},
     "output_type": "execute_result"
    }
   ],
   "source": [
    "nxds.read_edge()"
   ]
  },
  {
   "cell_type": "markdown",
   "metadata": {},
   "source": [
    "## flush, clear, and reload"
   ]
  },
  {
   "cell_type": "code",
   "execution_count": 33,
   "metadata": {},
   "outputs": [],
   "source": [
    "nxds.flush()"
   ]
  },
  {
   "cell_type": "code",
   "execution_count": 34,
   "metadata": {},
   "outputs": [],
   "source": [
    "nxds.clear()"
   ]
  },
  {
   "cell_type": "code",
   "execution_count": 35,
   "metadata": {},
   "outputs": [],
   "source": [
    "nxds.reload()"
   ]
  },
  {
   "cell_type": "code",
   "execution_count": null,
   "metadata": {},
   "outputs": [],
   "source": []
  }
 ],
 "metadata": {
  "hide_input": false,
  "kernelspec": {
   "display_name": "Python 3.7 (KnowNet)",
   "language": "python",
   "name": "knownet"
  },
  "language_info": {
   "codemirror_mode": {
    "name": "ipython",
    "version": 3
   },
   "file_extension": ".py",
   "mimetype": "text/x-python",
   "name": "python",
   "nbconvert_exporter": "python",
   "pygments_lexer": "ipython3",
   "version": "3.7.1"
  },
  "toc": {
   "base_numbering": 1,
   "nav_menu": {},
   "number_sections": true,
   "sideBar": true,
   "skip_h1_title": false,
   "title_cell": "Table of Contents",
   "title_sidebar": "Contents",
   "toc_cell": false,
   "toc_position": {},
   "toc_section_display": true,
   "toc_window_display": false
  },
  "varInspector": {
   "cols": {
    "lenName": 16,
    "lenType": 16,
    "lenVar": 40
   },
   "kernels_config": {
    "python": {
     "delete_cmd_postfix": "",
     "delete_cmd_prefix": "del ",
     "library": "var_list.py",
     "varRefreshCmd": "print(var_dic_list())"
    },
    "r": {
     "delete_cmd_postfix": ") ",
     "delete_cmd_prefix": "rm(",
     "library": "var_list.r",
     "varRefreshCmd": "cat(var_dic_list()) "
    }
   },
   "types_to_exclude": [
    "module",
    "function",
    "builtin_function_or_method",
    "instance",
    "_Feature"
   ],
   "window_display": false
  }
 },
 "nbformat": 4,
 "nbformat_minor": 2
}
