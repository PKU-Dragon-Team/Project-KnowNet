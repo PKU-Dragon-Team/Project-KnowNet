{
 "cells": [
  {
   "cell_type": "code",
   "execution_count": 1,
   "metadata": {},
   "outputs": [],
   "source": [
    "from pathlib import Path\n",
    "import os\n",
    "import sys"
   ]
  },
  {
   "cell_type": "code",
   "execution_count": 2,
   "metadata": {},
   "outputs": [],
   "source": [
    "current_location = Path(os.getcwd())\n",
    "data_location = current_location / 'data'\n",
    "json_location = data_location / 'json'\n",
    "parent_directory = current_location.parent"
   ]
  },
  {
   "cell_type": "code",
   "execution_count": 3,
   "metadata": {},
   "outputs": [],
   "source": [
    "sys.path.append(str(parent_directory))"
   ]
  },
  {
   "cell_type": "code",
   "execution_count": 4,
   "metadata": {},
   "outputs": [],
   "source": [
    "from data_platform.config import ConfigManager\n",
    "from data_platform.datasource import JSONDS"
   ]
  },
  {
   "cell_type": "code",
   "execution_count": 5,
   "metadata": {},
   "outputs": [],
   "source": [
    "config = ConfigManager({\n",
    "    \"init\": {\n",
    "        \"location\": json_location\n",
    "    }\n",
    "})"
   ]
  },
  {
   "cell_type": "code",
   "execution_count": 6,
   "metadata": {},
   "outputs": [],
   "source": [
    "jsonds = JSONDS(config)"
   ]
  },
  {
   "cell_type": "code",
   "execution_count": 7,
   "metadata": {},
   "outputs": [],
   "source": [
    "sample_doc = {\n",
    "    '$pep': 8,\n",
    "    '$title': 'Style Guide for Python Code',\n",
    "    '$authors': [\n",
    "        'Guido van Rossum <guido at python.org>',\n",
    "        'Barry Warsaw <barry at python.org>',\n",
    "        'Nick Coghlan <ncoghlan at gmail.com>'\n",
    "    ],\n",
    "    '$status': 'Active',\n",
    "    '$type': 'Process',\n",
    "    '$created': '05-Jul-2001',\n",
    "    'title': 'PEP 8 -- Style Guide for Python Code',\n",
    "    '$sections': [\n",
    "        {\n",
    "            '$title': 'Introduction',\n",
    "            '$paragraphs': [\n",
    "                '''This document gives coding conventions for the Python code comprising the standard library in the main Python distribution. Please see the companion informational PEP describing style guidelines for the C code in the C implementation of Python [1].''',\n",
    "                '''his document and PEP 257 (Docstring Conventions) were adapted from Guido's original Python Style Guide essay, with some additions from Barry's style guide [2].''',\n",
    "                '''This style guide evolves over time as additional conventions are identified and past conventions are rendered obsolete by changes in the language itself.''',\n",
    "                '''Many projects have their own coding style guidelines. In the event of any conflicts, such project-specific guides take precedence for that project.'''                \n",
    "            ]\n",
    "        },\n",
    "        {\n",
    "            '$title': 'A Foolish Consistency is the Hobgoblin of Little Minds',\n",
    "            '$paragraphs': [\n",
    "                '''One of Guido's key insights is that code is read much more often than it is written. The guidelines provided here are intended to improve the readability of code and make it consistent across the wide spectrum of Python code. As PEP 20 says, \"Readability counts\".''',\n",
    "                '''A style guide is about consistency. Consistency with this style guide is important. Consistency within a project is more important. Consistency within one module or function is the most important.''',\n",
    "                '''However, know when to be inconsistent -- sometimes style guide recommendations just aren't applicable. When in doubt, use your best judgment. Look at other examples and decide what looks best. And don't hesitate to ask!''',\n",
    "                '''In particular: do not break backwards compatibility just to comply with this PEP!''',\n",
    "                '''Some other good reasons to ignore a particular guideline:''',\n",
    "                '''1. When applying the guideline would make the code less readable, even for someone who is used to reading code that follows this PEP.''',\n",
    "                '''2. To be consistent with surrounding code that also breaks it (maybe for historic reasons) -- although this is also an opportunity to clean up someone else's mess (in true XP style).''',\n",
    "                '''3. Because the code in question predates the introduction of the guideline and there is no other reason to be modifying that code.''',\n",
    "                '''4. When the code needs to remain compatible with older versions of Python that don't support the feature recommended by the style guide.'''\n",
    "            ]\n",
    "        }\n",
    "    ]\n",
    "}"
   ]
  },
  {
   "cell_type": "markdown",
   "metadata": {},
   "source": [
    "## Create"
   ]
  },
  {
   "cell_type": "markdown",
   "metadata": {},
   "source": [
    "### 默认向 `_default:_default` 插入/修改/删除"
   ]
  },
  {
   "cell_type": "code",
   "execution_count": 8,
   "metadata": {},
   "outputs": [
    {
     "data": {
      "text/plain": [
       "[DocKeyPair(docset_name='_default', doc_name='_default')]"
      ]
     },
     "execution_count": 8,
     "metadata": {},
     "output_type": "execute_result"
    }
   ],
   "source": [
    "jsonds.create_doc(val = sample_doc)"
   ]
  },
  {
   "cell_type": "markdown",
   "metadata": {},
   "source": [
    "## Read"
   ]
  },
  {
   "cell_type": "markdown",
   "metadata": {},
   "source": [
    "### 默认读取所有文档"
   ]
  },
  {
   "cell_type": "code",
   "execution_count": 9,
   "metadata": {},
   "outputs": [
    {
     "data": {
      "text/plain": [
       "{DocKeyPair(docset_name='_default', doc_name='_default'): {'$pep': 8,\n",
       "  '$title': 'Style Guide for Python Code',\n",
       "  '$authors': ['Guido van Rossum <guido at python.org>',\n",
       "   'Barry Warsaw <barry at python.org>',\n",
       "   'Nick Coghlan <ncoghlan at gmail.com>'],\n",
       "  '$status': 'Active',\n",
       "  '$type': 'Process',\n",
       "  '$created': '05-Jul-2001',\n",
       "  'title': 'PEP 8 -- Style Guide for Python Code',\n",
       "  '$sections': [{'$title': 'Introduction',\n",
       "    '$paragraphs': ['This document gives coding conventions for the Python code comprising the standard library in the main Python distribution. Please see the companion informational PEP describing style guidelines for the C code in the C implementation of Python [1].',\n",
       "     \"his document and PEP 257 (Docstring Conventions) were adapted from Guido's original Python Style Guide essay, with some additions from Barry's style guide [2].\",\n",
       "     'This style guide evolves over time as additional conventions are identified and past conventions are rendered obsolete by changes in the language itself.',\n",
       "     'Many projects have their own coding style guidelines. In the event of any conflicts, such project-specific guides take precedence for that project.']},\n",
       "   {'$title': 'A Foolish Consistency is the Hobgoblin of Little Minds',\n",
       "    '$paragraphs': ['One of Guido\\'s key insights is that code is read much more often than it is written. The guidelines provided here are intended to improve the readability of code and make it consistent across the wide spectrum of Python code. As PEP 20 says, \"Readability counts\".',\n",
       "     'A style guide is about consistency. Consistency with this style guide is important. Consistency within a project is more important. Consistency within one module or function is the most important.',\n",
       "     \"However, know when to be inconsistent -- sometimes style guide recommendations just aren't applicable. When in doubt, use your best judgment. Look at other examples and decide what looks best. And don't hesitate to ask!\",\n",
       "     'In particular: do not break backwards compatibility just to comply with this PEP!',\n",
       "     'Some other good reasons to ignore a particular guideline:',\n",
       "     '1. When applying the guideline would make the code less readable, even for someone who is used to reading code that follows this PEP.',\n",
       "     \"2. To be consistent with surrounding code that also breaks it (maybe for historic reasons) -- although this is also an opportunity to clean up someone else's mess (in true XP style).\",\n",
       "     '3. Because the code in question predates the introduction of the guideline and there is no other reason to be modifying that code.',\n",
       "     \"4. When the code needs to remain compatible with older versions of Python that don't support the feature recommended by the style guide.\"]}]}}"
      ]
     },
     "execution_count": 9,
     "metadata": {},
     "output_type": "execute_result"
    }
   ],
   "source": [
    "jsonds.read_doc()"
   ]
  },
  {
   "cell_type": "code",
   "execution_count": 10,
   "metadata": {},
   "outputs": [],
   "source": [
    "sample_doc2 = {\n",
    "    'title': 'PEP 484 -- Type Hints',\n",
    "    '$pep': 484,\n",
    "    '$authors': [\n",
    "        'Guido van Rossum <guido at python.org>',\n",
    "        'Jukka Lehtosalo <jukka.lehtosalo at iki.fi>',\n",
    "        'Łukasz Langa <lukasz at python.org>'\n",
    "    ],\n",
    "    '$status': 'Provisional',\n",
    "    '$type': 'Standards Track',\n",
    "    '$created': '29-Sep-2014'\n",
    "}"
   ]
  },
  {
   "cell_type": "code",
   "execution_count": 11,
   "metadata": {},
   "outputs": [
    {
     "data": {
      "text/plain": [
       "[DocKeyPair(docset_name='pep', doc_name='pep484')]"
      ]
     },
     "execution_count": 11,
     "metadata": {},
     "output_type": "execute_result"
    }
   ],
   "source": [
    "jsonds.create_doc({('pep', 'pep484'): {}}, sample_doc2)"
   ]
  },
  {
   "cell_type": "code",
   "execution_count": 12,
   "metadata": {},
   "outputs": [
    {
     "data": {
      "text/plain": [
       "{DocKeyPair(docset_name='pep', doc_name='pep484'): {'title': 'PEP 484 -- Type Hints',\n",
       "  '$pep': 484,\n",
       "  '$authors': ['Guido van Rossum <guido at python.org>',\n",
       "   'Jukka Lehtosalo <jukka.lehtosalo at iki.fi>',\n",
       "   'Łukasz Langa <lukasz at python.org>'],\n",
       "  '$status': 'Provisional',\n",
       "  '$type': 'Standards Track',\n",
       "  '$created': '29-Sep-2014'}}"
      ]
     },
     "execution_count": 12,
     "metadata": {},
     "output_type": "execute_result"
    }
   ],
   "source": [
    "jsonds.read_doc(('pep', 'pep484'))"
   ]
  },
  {
   "cell_type": "markdown",
   "metadata": {},
   "source": [
    "## Update"
   ]
  },
  {
   "cell_type": "code",
   "execution_count": 13,
   "metadata": {},
   "outputs": [
    {
     "data": {
      "text/plain": [
       "[DocKeyPair(docset_name='_default', doc_name='_default')]"
      ]
     },
     "execution_count": 13,
     "metadata": {},
     "output_type": "execute_result"
    }
   ],
   "source": [
    "jsonds.update_doc(val = sample_doc2)"
   ]
  },
  {
   "cell_type": "code",
   "execution_count": 14,
   "metadata": {},
   "outputs": [
    {
     "data": {
      "text/plain": [
       "[DocKeyPair(docset_name='pep', doc_name='pep511'),\n",
       " DocKeyPair(docset_name='pep', doc_name='pep051'),\n",
       " DocKeyPair(docset_name='pep', doc_name='pep001')]"
      ]
     },
     "execution_count": 14,
     "metadata": {},
     "output_type": "execute_result"
    }
   ],
   "source": [
    "jsonds.update_doc([('pep', 'pep001'), ('pep', 'pep051'), ('pep', 'pep511')], sample_doc2)"
   ]
  },
  {
   "cell_type": "code",
   "execution_count": 15,
   "metadata": {},
   "outputs": [
    {
     "data": {
      "text/plain": [
       "{DocKeyPair(docset_name='_default', doc_name='_default'): {'$pep': 484,\n",
       "  '$title': 'Style Guide for Python Code',\n",
       "  '$authors': ['Guido van Rossum <guido at python.org>',\n",
       "   'Jukka Lehtosalo <jukka.lehtosalo at iki.fi>',\n",
       "   'Łukasz Langa <lukasz at python.org>'],\n",
       "  '$status': 'Provisional',\n",
       "  '$type': 'Standards Track',\n",
       "  '$created': '29-Sep-2014',\n",
       "  'title': 'PEP 484 -- Type Hints',\n",
       "  '$sections': [{'$title': 'Introduction',\n",
       "    '$paragraphs': ['This document gives coding conventions for the Python code comprising the standard library in the main Python distribution. Please see the companion informational PEP describing style guidelines for the C code in the C implementation of Python [1].',\n",
       "     \"his document and PEP 257 (Docstring Conventions) were adapted from Guido's original Python Style Guide essay, with some additions from Barry's style guide [2].\",\n",
       "     'This style guide evolves over time as additional conventions are identified and past conventions are rendered obsolete by changes in the language itself.',\n",
       "     'Many projects have their own coding style guidelines. In the event of any conflicts, such project-specific guides take precedence for that project.']},\n",
       "   {'$title': 'A Foolish Consistency is the Hobgoblin of Little Minds',\n",
       "    '$paragraphs': ['One of Guido\\'s key insights is that code is read much more often than it is written. The guidelines provided here are intended to improve the readability of code and make it consistent across the wide spectrum of Python code. As PEP 20 says, \"Readability counts\".',\n",
       "     'A style guide is about consistency. Consistency with this style guide is important. Consistency within a project is more important. Consistency within one module or function is the most important.',\n",
       "     \"However, know when to be inconsistent -- sometimes style guide recommendations just aren't applicable. When in doubt, use your best judgment. Look at other examples and decide what looks best. And don't hesitate to ask!\",\n",
       "     'In particular: do not break backwards compatibility just to comply with this PEP!',\n",
       "     'Some other good reasons to ignore a particular guideline:',\n",
       "     '1. When applying the guideline would make the code less readable, even for someone who is used to reading code that follows this PEP.',\n",
       "     \"2. To be consistent with surrounding code that also breaks it (maybe for historic reasons) -- although this is also an opportunity to clean up someone else's mess (in true XP style).\",\n",
       "     '3. Because the code in question predates the introduction of the guideline and there is no other reason to be modifying that code.',\n",
       "     \"4. When the code needs to remain compatible with older versions of Python that don't support the feature recommended by the style guide.\"]}]},\n",
       " DocKeyPair(docset_name='pep', doc_name='pep484'): {'title': 'PEP 484 -- Type Hints',\n",
       "  '$pep': 484,\n",
       "  '$authors': ['Guido van Rossum <guido at python.org>',\n",
       "   'Jukka Lehtosalo <jukka.lehtosalo at iki.fi>',\n",
       "   'Łukasz Langa <lukasz at python.org>'],\n",
       "  '$status': 'Provisional',\n",
       "  '$type': 'Standards Track',\n",
       "  '$created': '29-Sep-2014'}}"
      ]
     },
     "execution_count": 15,
     "metadata": {},
     "output_type": "execute_result"
    }
   ],
   "source": [
    "jsonds.read_doc([('_default', '_default'), ('pep', 'pep484')])"
   ]
  },
  {
   "cell_type": "markdown",
   "metadata": {},
   "source": [
    "## Delete"
   ]
  },
  {
   "cell_type": "code",
   "execution_count": 16,
   "metadata": {},
   "outputs": [
    {
     "data": {
      "text/plain": [
       "1"
      ]
     },
     "execution_count": 16,
     "metadata": {},
     "output_type": "execute_result"
    }
   ],
   "source": [
    "jsonds.delete_doc()"
   ]
  },
  {
   "cell_type": "code",
   "execution_count": 17,
   "metadata": {},
   "outputs": [
    {
     "data": {
      "text/plain": [
       "{DocKeyPair(docset_name='pep', doc_name='pep511'): {'title': 'PEP 484 -- Type Hints',\n",
       "  '$pep': 484,\n",
       "  '$authors': ['Guido van Rossum <guido at python.org>',\n",
       "   'Jukka Lehtosalo <jukka.lehtosalo at iki.fi>',\n",
       "   'Łukasz Langa <lukasz at python.org>'],\n",
       "  '$status': 'Provisional',\n",
       "  '$type': 'Standards Track',\n",
       "  '$created': '29-Sep-2014'},\n",
       " DocKeyPair(docset_name='pep', doc_name='pep051'): {'title': 'PEP 484 -- Type Hints',\n",
       "  '$pep': 484,\n",
       "  '$authors': ['Guido van Rossum <guido at python.org>',\n",
       "   'Jukka Lehtosalo <jukka.lehtosalo at iki.fi>',\n",
       "   'Łukasz Langa <lukasz at python.org>'],\n",
       "  '$status': 'Provisional',\n",
       "  '$type': 'Standards Track',\n",
       "  '$created': '29-Sep-2014'},\n",
       " DocKeyPair(docset_name='pep', doc_name='pep484'): {'title': 'PEP 484 -- Type Hints',\n",
       "  '$pep': 484,\n",
       "  '$authors': ['Guido van Rossum <guido at python.org>',\n",
       "   'Jukka Lehtosalo <jukka.lehtosalo at iki.fi>',\n",
       "   'Łukasz Langa <lukasz at python.org>'],\n",
       "  '$status': 'Provisional',\n",
       "  '$type': 'Standards Track',\n",
       "  '$created': '29-Sep-2014'},\n",
       " DocKeyPair(docset_name='pep', doc_name='pep001'): {'title': 'PEP 484 -- Type Hints',\n",
       "  '$pep': 484,\n",
       "  '$authors': ['Guido van Rossum <guido at python.org>',\n",
       "   'Jukka Lehtosalo <jukka.lehtosalo at iki.fi>',\n",
       "   'Łukasz Langa <lukasz at python.org>'],\n",
       "  '$status': 'Provisional',\n",
       "  '$type': 'Standards Track',\n",
       "  '$created': '29-Sep-2014'}}"
      ]
     },
     "execution_count": 17,
     "metadata": {},
     "output_type": "execute_result"
    }
   ],
   "source": [
    "jsonds.read_doc()"
   ]
  },
  {
   "cell_type": "code",
   "execution_count": 18,
   "metadata": {},
   "outputs": [
    {
     "data": {
      "text/plain": [
       "{DocKeyPair(docset_name='pep', doc_name='pep051'): {'title': 'PEP 484 -- Type Hints',\n",
       "  '$pep': 484,\n",
       "  '$authors': ['Guido van Rossum <guido at python.org>',\n",
       "   'Jukka Lehtosalo <jukka.lehtosalo at iki.fi>',\n",
       "   'Łukasz Langa <lukasz at python.org>'],\n",
       "  '$status': 'Provisional',\n",
       "  '$type': 'Standards Track',\n",
       "  '$created': '29-Sep-2014'}}"
      ]
     },
     "execution_count": 18,
     "metadata": {},
     "output_type": "execute_result"
    }
   ],
   "source": [
    "jsonds.read_doc(('pep', 'pep051'))"
   ]
  },
  {
   "cell_type": "code",
   "execution_count": 19,
   "metadata": {},
   "outputs": [],
   "source": [
    "jsonds.flush()"
   ]
  },
  {
   "cell_type": "code",
   "execution_count": 20,
   "metadata": {},
   "outputs": [],
   "source": [
    "jsonds.clear()"
   ]
  },
  {
   "cell_type": "code",
   "execution_count": 21,
   "metadata": {},
   "outputs": [],
   "source": [
    "jsonds.reload()"
   ]
  },
  {
   "cell_type": "code",
   "execution_count": null,
   "metadata": {},
   "outputs": [],
   "source": []
  }
 ],
 "metadata": {
  "kernelspec": {
   "display_name": "Python 3.7 (KnowNet)",
   "language": "python",
   "name": "knownet"
  },
  "language_info": {
   "codemirror_mode": {
    "name": "ipython",
    "version": 3
   },
   "file_extension": ".py",
   "mimetype": "text/x-python",
   "name": "python",
   "nbconvert_exporter": "python",
   "pygments_lexer": "ipython3",
   "version": "3.7.1"
  }
 },
 "nbformat": 4,
 "nbformat_minor": 2
}
