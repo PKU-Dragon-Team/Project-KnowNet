{
 "cells": [
  {
   "cell_type": "markdown",
   "metadata": {},
   "source": [
    "# 数据获取部分教程\n",
    "\n",
    "### 任务要求：\n",
    " * 创建一个名为`hello_world`的文献集\n",
    " * 分别在IEEE以\"good evening\"为检索词，在Scopus以\"good morning\"为检索词，获取检索结果前5条（两个数据源共10条）文献元数据，加入`hello_world`文献集\n",
    " * 获取这10篇文献的原文，保存在`./data/stay_home`目录下，并将每篇文献的原文地址记录在元数据中。"
   ]
  },
  {
   "cell_type": "code",
   "execution_count": 1,
   "metadata": {},
   "outputs": [],
   "source": [
    "# 进行初始化，创建一些基础对象\n",
    "import os\n",
    "os.chdir('D:\\\\大三下\\\\a\\\\系统\\\\Project-KnowNet')\n",
    "from data_fetcher.id_manager import IDManager\n",
    "from data_platform.config import ConfigManager\n",
    "from data_platform.datasource.mongodb import MongoDBDS\n",
    "from pathlib import Path\n",
    "import logging\n",
    "logging.basicConfig(level=logging.INFO)\n",
    "\n",
    "current_location = Path(os.getcwd())\n",
    "config = ConfigManager({\n",
    "    'init':{\n",
    "        'uri': None,\n",
    "        'database': 'db'\n",
    "    }\n",
    "})\n",
    "\n",
    "mgdbds = MongoDBDS(config=config)\n",
    "# 先将数据库原有内容清空\n",
    "mgdbds.clear()"
   ]
  },
  {
   "cell_type": "code",
   "execution_count": 2,
   "metadata": {},
   "outputs": [
    {
     "output_type": "stream",
     "name": "stdout",
     "text": "['id_inc']\n[{'_id': 'paper_id', 'sequence_value': 0}]\n"
    }
   ],
   "source": [
    "# 创建一个ID管理器，用于给文献赋ID\n",
    "pim = IDManager(\n",
    "    config=config, \n",
    "    key=('paper_id', 'title'), \n",
    "    auto_inc = ('id_inc', 'paper_id')\n",
    ")\n",
    "\n",
    "print(mgdbds.get_db().list_collection_names())\n",
    "print(list(mgdbds.get_db()['id_inc'].find()))"
   ]
  },
  {
   "cell_type": "code",
   "execution_count": 4,
   "metadata": {},
   "outputs": [
    {
     "output_type": "stream",
     "name": "stdout",
     "text": "crawling metadata page: 0 / 1\nfinished crawling metadata pages.\nand get metadata of 100 papers\nINFO:root:adding paper with id 0 in paper_set hello_world\nINFO:root:paper_set hello_world not found, creating a new one.\nINFO:root:adding paper with id 1 in paper_set hello_world\nINFO:root:adding paper with id 2 in paper_set hello_world\nINFO:root:adding paper with id 3 in paper_set hello_world\nINFO:root:adding paper with id 4 in paper_set hello_world\n"
    }
   ],
   "source": [
    "# 先爬IEEE\n",
    "from data_fetcher.ieee.ieee_retrieval import IEEERetrieval\n",
    "ir = IEEERetrieval(\n",
    "    query = 'good evening',\n",
    "    offset = 0,\n",
    "    num_result = 5, \n",
    "    paper_id_manager=pim,\n",
    "    paper_set='hello_world'\n",
    ")\n",
    "ir_res = ir.retrieve()     # 执行检索\n",
    "ir.save(mgdbds)         # 将检索结果记录在数据库中"
   ]
  },
  {
   "cell_type": "code",
   "execution_count": 6,
   "metadata": {
    "tags": [
     "outputPrepend"
    ]
   },
   "outputs": [
    {
     "output_type": "stream",
     "name": "stderr",
     "text": "ERROR:root:IEEEFulltextSpider, articleNumber = 4091621 PDF URL not found. Exception: list index out of range\n['metadata', 'paper_set', 'paper_id', 'id_inc']\n[{'_id': 0, 'title': 'Diurnal Variations of Atmospheric Noise in the Evening Transition Period'}, {'_id': 1, 'title': 'Towards Miss Universe automatic prediction: The evening gown competition'}, {'_id': 2, 'title': 'Circuits evening panel discussion 1: Is university circuit design research and education keeping up with industry needs?'}, {'_id': 3, 'title': 'Technology/circuits joint evening panel discussion semiconductor industry in 2020: Evolution or revolution?'}, {'_id': 4, 'title': 'Technology / circuits joint evening panel discussion semiconductor industry in 2020: Evolution or revolution? Tuesday, June 16, 20:00–22:00'}, {'_id': 5, 'title': 'Short-term FFBS demand prediction with multi-source data in a hybrid deep learning framework'}, {'_id': 6, 'title': 'BBC World Service: schedule operation and the new Bush House control room'}, {'_id': 7, 'title': 'E3 good, bad, ugly - 50 years of memory evolution. what next?'}, {'_id': 8, 'title': 'Best bits: Applications of microprocessors'}, {'_id': 9, 'title': 'Joint Optimum Preventive-Maintenance and Repair-Limit Replacement Policies'}, {'_id': 10, 'title': 'A Feature Extraction Using SIFT with a Preprocessing by Adding CLAHE Algorithm to Enhance Image Histograms'}, {'_id': 11, 'title': 'Sentinel-3 Urban Heat Island Monitoring and analysis for Kyiv Based on Vector Data'}, {'_id': 12, 'title': 'Short-term Electricity Load Forecasting for Thailand'}, {'_id': 13, 'title': 'A case study to design a mobility as a service model for urban female corporates to improve their work performance'}, {'_id': 14, 'title': 'Dynamic control on compressed air supply for sustainable energy savings'}, {'_id': 15, 'title': 'Transient response of a localised demand control system'}, {'_id': 16, 'title': 'Airborne VHF environment noise measurements'}, {'_id': 17, 'title': 'Collaborative learning using pocket labs'}, {'_id': 18, 'title': 'A semi-cyclic shift patterns approach for nurse rostering problems'}, {'_id': 19, 'title': 'Micro-grid and DG expansion: Key role of storage, projected global demand'}, {'_id': 20, 'title': 'Discussion on “light from gaseous conductors within glass tubes — The Moore light,” at New York April 26, 1907'}, {'_id': 21, 'title': 'Investigation on the performance of photovoltaic panel with various filters: (At rural areas of bale robe region in Africa continent)'}, {'_id': 22, 'title': 'Gross Motor Activity Patterns in Depression and Anxiety'}, {'_id': 23, 'title': 'Wideband Channel Availability Statistics over the High Frequency Spectrum in Cyprus'}, {'_id': 24, 'title': 'Soundscape characteristics of the Eastern Taiwan Strait Indo-Pacific humpback dolphin habitat'}, {'_id': 25, 'title': 'What others say of us'}, {'_id': 26, 'title': 'Dr. Pupin to address New York engineers on the romance of research'}, {'_id': 27, 'title': 'Travel time prediction in partitioned road networks based on floating car data'}, {'_id': 28, 'title': 'Evolution of Graduate Education in Electrical Engineering in Metropolitan Areas'}, {'_id': 29, 'title': 'The Scientific Revolution [Fiction]'}, {'_id': 30, 'title': 'Implementation of Movable Road Divider using Internet of Things (IOT)'}, {'_id': 31, 'title': 'Discussion on \"Standardisation\" at the Luton, Bedford and District Section of the Institution'}, {'_id': 32, 'title': 'Criteria for the design of GaInP/GaAs/Ge triple-junction cells to optimize their performance outdoors'}, {'_id': 33, 'title': 'Balancing QCA logic gates under image charge neutralization'}, {'_id': 34, 'title': 'Sports tech: Football pitches'}, {'_id': 35, 'title': 'Signal distortion on VHF/UHF transionospheric paths: First results from the Wideband Ionospheric Distortion Experiment'}, {'_id': 36, 'title': 'Evaluation of grid-tied energy storage opportunity for the commercial and industrial sector in the U.S.'}, {'_id': 37, 'title': \"First ionospheric experimental campaign and observations at Fraser's Hill, Malaysia: results of vertical sounding\"}, {'_id': 38, 'title': 'Impacts of electric vehicle chargers on the power grid'}, {'_id': 39, 'title': 'Solar home system in Bangladesh: Prospects, challenges and constraints'}, {'_id': 40, 'title': 'Real-time optimization of a solar-natural gas hybrid power plant to enhance solar power utilization'}, {'_id': 41, 'title': 'Technical education in Japan'}, {'_id': 42, 'title': 'Analyzing circadian rhythms for breaktime schedulling on night shift work'}, {'_id': 43, 'title': 'Empirical analysis of user position for various conditions using gnss single frequency receiver'}, {'_id': 44, 'title': 'Enabling patient remote rehabilitation through motion monitoring and analysis'}, {'_id': 45, 'title': \"Stuff You Don't Learn in Engineering School: People Skills\"}, {'_id': 46, 'title': 'Overview of the Nightsat mission concept'}, {'_id': 47, 'title': 'An Echo Interference Method for the Study of Radio Wave Paths'}, {'_id': 48, 'title': 'Short-Wave Transmission to South America'}, {'_id': 49, 'title': 'Engineers hear plan to mobilize industry in war'}, {'_id': 50, 'title': 'Hypertensive patients with coronary artery disease and an abnormal pattern of heart rate variability'}, {'_id': 51, 'title': 'Performance Analysis of Short-term Electricity Demand Forecasting for Thailand'}, {'_id': 52, 'title': \"[jack's blog]\"}, {'_id': 53, 'title': 'At the Interface of Disciplines: Jeffrey Karp pulls from nature and nano to transform medicine'}, {'_id': 54, 'title': 'Creating global awareness for eliminating light poverty in the world: To replace hazardous kerosene lamps with clean and safe solar lamps'}, {'_id': 55, 'title': 'Comparison between 2-D GPS dTEC Data Maps and Digisonde Observations over the South American and Atlantic Regions'}, {'_id': 56, 'title': 'Trip-Based Measures of Naturalistic Driving: Considerations and Connections With Cognitive Status in Older Adult Drivers'}, {'_id': 57, 'title': 'Drive test measurement be tween Maxis 2G and 3G networks in Uitm Shah Alam campus'}, {'_id': 58, 'title': 'Research on Multi-constrained Scheduling Model of Truck Appointment System Considering Congestion and Emission'}, {'_id': 59, 'title': 'Analyzing the effect of hyperparameters in a automobile classifier based on convolutional neural networks'}, {'_id': 60, 'title': 'Careers: \"But what have you done for me lately?\" - The Boss'}, {'_id': 61, 'title': 'Using Polysomnographic Data to Investigate Symptom Clusters Associated with Cognitive Decline in Patients with Obstructive Sleep Apnea'}, {'_id': 62, 'title': 'Short-term traffic flow prediction based on wavelet function and extreme learning machine'}, {'_id': 63, 'title': 'Some aspects of the day-to-day variability of the equatorial anomaly: American and Japanese sectors'}, {'_id': 64, 'title': 'A thai experience on flipped classrooms: Instructional video issues'}, {'_id': 65, 'title': 'Discussion on \"Practical research in production engineering\" at the London Section of the Institution'}, {'_id': 66, 'title': 'Integrating the management and design of urban road network to alleviate tide traffic*'}, {'_id': 67, 'title': 'The hidden locality in swarms'}, {'_id': 68, 'title': 'Color Palette Selection In Thermal Imaging For Enhancing Situation Awareness During Detection-Recognition Tasks'}, {'_id': 69, 'title': 'STARE: A new radar auroral backscatter experiment in northern Scandinavia'}, {'_id': 70, 'title': '5 THE RIGHT USE OF LEISURE'}, {'_id': 71, 'title': 'A crowdsensing algorithm for imputing Zika outbreak location data'}, {'_id': 72, 'title': \"Improving Students' Daily Life Stress Forecasting using LSTM Neural Networks\"}, {'_id': 73, 'title': 'A comparison of ground and satellite observations of F region vertical velocity near the dip equator'}, {'_id': 74, 'title': 'Smart street light system based on image processing'}, {'_id': 75, 'title': 'High-resolution monitoring of environmental state variables in the surface layer of the Gulf of Finland (during a dynamic spring bloom in March-May 2010)'}, {'_id': 76, 'title': 'Hybrid AC and DC smart home resilient architecture Transforming prosumers in UniRCons'}, {'_id': 77, 'title': 'Influence of electromagnetic drifts and neutral air winds on some features of the F2 region'}, {'_id': 78, 'title': 'Flipped Classroom Strategy to Help Underachievers in Java Programming'}, {'_id': 79, 'title': 'Continuous-time marginal pricing of power trajectories in power systems'}, {'_id': 80, 'title': 'Traffic-tracing gateway (TTG)'}, {'_id': 81, 'title': 'Thermal Monitoring of Eyjafjöll Volcano Eruptions by Means of Infrared MODIS Data'}, {'_id': 82, 'title': 'Examining Usage Patterns of Public Biking Behavior Based on IC Card Data: Comparison Before and After the Usage of Free-floating Shared Bikes'}, {'_id': 83, 'title': 'Integration of PHEV smart charging method to hybrid wind power/battery storage system'}, {'_id': 84, 'title': 'Charging load from large-scale plug-in hybrid electric vehicles: Impact and optimization'}, {'_id': 85, 'title': 'Autonomous mobility on demand in SimMobility: Case study of the central business district in Singapore'}, {'_id': 86, 'title': 'Interference to cable television due to mobile usage in the Digital Dividend - Analysis'}, {'_id': 87, 'title': 'Identification of Intra-Day Variations of Static Load Characteristics Based on Measurements in High-Voltage Transmission Network'}, {'_id': 88, 'title': 'A multi feature based on-road vehicle recognition'}, {'_id': 89, 'title': \"Intelligent Vehicles' Effects on Chinese Traffic: A Simulation Study of Cooperative Adaptive Cruise Control and Intelligent Speed Adaption\"}, {'_id': 90, 'title': 'Characterizing home wireless performance: The gateway view'}, {'_id': 91, 'title': 'A Precision, Low-Cost GPS-Based Transmitter Synchronization Scheme for Improved AM Reception'}, {'_id': 92, 'title': 'Discussion on \"Personal problems of management\" at the London Section of the Institution'}, {'_id': 93, 'title': 'Behavior-Oriented Time Segmentation for Mining Individualized Rules of Mobile Phone Users'}, {'_id': 94, 'title': 'Performance comparison of CdTe thin film modules with c-Si modules under low irradiance'}, {'_id': 95, 'title': 'Stochastic Approach for Short-Term Freeway Traffic Prediction During Peak Periods'}, {'_id': 96, 'title': 'Research on Energy Switch Oriented Energy Internet'}, {'_id': 97, 'title': 'Demand side management with stepped model predictive control'}, {'_id': 98, 'title': 'Research and implementation on connectivity reliability calculation algorithm of urban rail transit network operation'}, {'_id': 99, 'title': 'A Balanced Energy-Efficient Multihop clustering scheme for Wireless Sensor Networks'}]\n[{'_id': ObjectId('5ea275c469801f65e85522fb'), 'set_name': 'hello_world', 'paper': [0, 1, 2, 3, 4]}]\n{'_id': 4, 'title': 'Technology / circuits joint evening panel discussion semiconductor industry in 2020: Evolution or revolution? Tuesday, June 16, 20:00–22:00', 'IEEEArticleNumber': '7223720', 'abstract': 'Emerging markets such as IoT, M2M, and Big Data analysis will change the game rules of semiconductor industry in 2020. What kind of business models will be required for the players? It is becoming difficult for the Integrated Device Manufacturers (IDM) to make profits simply by fabricating devices. Not only the hardware, but services or solutions becomes more and more important. On the other hand,...', 'publication': '2015 Symposium on VLSI Technology (VLSI Technology)', 'year': '2015', 'volume': None, 'issue': None, 'doi': '10.1109/VLSIT.2015.7223720', 'type': 'conference', 'authors': [], 'id': 4, 'uri': './data/7223720.pdf'}\n[{'_id': 'paper_id', 'sequence_value': 100}]\n"
    }
   ],
   "source": [
    "from data_fetcher.ieee.ieee_fulltext_spider import IEEEFulltextSpider\n",
    "\n",
    "article_numbers = [item['IEEEArticleNumber'] for item in ir_res]\n",
    "\n",
    "for article_number in article_numbers:\n",
    "    # 请注意：一定要在校园网环境下爬才能成功！\n",
    "    ifs = IEEEFulltextSpider(\n",
    "        article_number=article_number,\n",
    "        request_interval=5\n",
    "    )\n",
    "    ifs_result = ifs.execute() # 爬取PDF，记录爬取结果所在路径\n",
    "    # 当然并不是所有原文都能成功爬到的，爬不到就会输出ERROR的log\n",
    "    \n",
    "    # 更新数据库中对应元数据的uri字段。\n",
    "    # 可以整合到FullTextSpider类中，但这样会增加耦合，所以我还在思考\n",
    "    if ifs_result:\n",
    "        mgdbds.query_and_update_doc(\n",
    "            docset='metadata',\n",
    "            query={'IEEEArticleNumber': article_number},\n",
    "            val={'$set': {'uri': ifs_result}}\n",
    "        )\n",
    "    # 另外以后可以考虑改成多线程，这样爬IEEE的时候还能继续运行后面的程序\n",
    "\n",
    "# 此时./data中应该已经有几篇pdf了。\n",
    "# 检查现在数据库中的内容\n",
    "print(mgdbds.get_db().list_collection_names())\n",
    "print(list(mgdbds.get_db()['paper_id'].find()))\n",
    "print(list(mgdbds.get_db()['paper_set'].find()))\n",
    "print(list(mgdbds.get_db()['metadata'].find())[-1]) # 注意uri字段\n",
    "print(list(mgdbds.get_db()['id_inc'].find()))"
   ]
  },
  {
   "cell_type": "code",
   "execution_count": 7,
   "metadata": {},
   "outputs": [
    {
     "output_type": "stream",
     "name": "stderr",
     "text": "INFO:data_fetcher.dependencies.elsapy.elsclient:Module loaded.\nINFO:data_fetcher.dependencies.elsapy.elssearch:Module loaded.\nINFO:data_fetcher.dependencies.elsapy.elsclient:Sending GET request to https://api.elsevier.com/content/search/scopus?query=good%20morning\nNumber of results got with query good%20morning : 25\n['10.1080/20008198.2020.1723857', '10.1038/s41598-020-61386-4', '10.1038/s41533-020-0163-5', '10.1038/s41598-020-57976-x', '10.1038/s41598-020-57661-z']\n"
    }
   ],
   "source": [
    "# 再爬Scopus\n",
    "from data_fetcher.scopus.scopus_retrieval import ScopusRetrieval\n",
    "\n",
    "# 爬之前要先在./data_fetcher/scopus路径下设置config文件，详见./data_fetcher/README.md\n",
    "sr = ScopusRetrieval(query='good morning', num_result=5)  # 初始化Scopus检索接口类\n",
    "sr.retrieve()       # 执行检索\n",
    "sr_doi_list = sr.get_doi_list()     # 获取检索结果中的doi，方便后续爬元数据和全文\n",
    "print(sr_doi_list)"
   ]
  },
  {
   "cell_type": "code",
   "execution_count": 10,
   "metadata": {
    "tags": [
     "outputPrepend"
    ]
   },
   "outputs": [
    {
     "output_type": "stream",
     "name": "stderr",
     "text": "INFO:data_fetcher.dependencies.elsapy.elsclient:Sending GET request to https://api.elsevier.com/content/abstract/doi/10.1080/20008198.2020.1723857\nINFO:data_fetcher.dependencies.elsapy.elsentity:Data loaded for https://api.elsevier.com/content/abstract/doi/10.1080/20008198.2020.1723857\nINFO:data_fetcher.dependencies.elsapy.elsclient:Sending GET request to https://api.elsevier.com/content/article/doi/10.1080/20008198.2020.1723857\nWARNING:data_fetcher.dependencies.elsapy.elsentity:HTTP 404 Error from https://api.elsevier.com/content/article/doi/10.1080/20008198.2020.1723857\nand using headers {'X-ELS-APIKey': '4719fe9f53c1bc699307a4f4c4ccf988', 'User-Agent': 'elsapy-v0.4.6', 'Accept': 'application/json'}:\n{\"service-error\":{\"status\":{\"statusCode\":\"RESOURCE_NOT_FOUND\",\"statusText\":\"The resource specified cannot be found.\"}}}\nERROR:root:ScopusFulltextSpider, getting doi = 10.1080/20008198.2020.1723857failed. Exception: ['HTTP 404 Error from https://api.elsevier.com/content/article/doi/10.1080/20008198.2020.1723857\\nand using headers {\\'X-ELS-APIKey\\': \\'4719fe9f53c1bc699307a4f4c4ccf988\\', \\'User-Agent\\': \\'elsapy-v0.4.6\\', \\'Accept\\': \\'application/json\\'}:\\n{\"service-error\":{\"status\":{\"statusCode\":\"RESOURCE_NOT_FOUND\",\"statusText\":\"The resource specified cannot be found.\"}}}']\nINFO:data_fetcher.dependencies.elsapy.elsclient:Sending GET request to https://api.elsevier.com/content/abstract/doi/10.1038/s41598-020-61386-4\nINFO:data_fetcher.dependencies.elsapy.elsentity:Data loaded for https://api.elsevier.com/content/abstract/doi/10.1038/s41598-020-61386-4\nINFO:data_fetcher.dependencies.elsapy.elsclient:Sending GET request to https://api.elsevier.com/content/article/doi/10.1038/s41598-020-61386-4\nWARNING:data_fetcher.dependencies.elsapy.elsentity:HTTP 404 Error from https://api.elsevier.com/content/article/doi/10.1038/s41598-020-61386-4\nand using headers {'X-ELS-APIKey': '4719fe9f53c1bc699307a4f4c4ccf988', 'User-Agent': 'elsapy-v0.4.6', 'Accept': 'application/json'}:\n{\"service-error\":{\"status\":{\"statusCode\":\"RESOURCE_NOT_FOUND\",\"statusText\":\"The resource specified cannot be found.\"}}}\nERROR:root:ScopusFulltextSpider, getting doi = 10.1038/s41598-020-61386-4failed. Exception: ['HTTP 404 Error from https://api.elsevier.com/content/article/doi/10.1038/s41598-020-61386-4\\nand using headers {\\'X-ELS-APIKey\\': \\'4719fe9f53c1bc699307a4f4c4ccf988\\', \\'User-Agent\\': \\'elsapy-v0.4.6\\', \\'Accept\\': \\'application/json\\'}:\\n{\"service-error\":{\"status\":{\"statusCode\":\"RESOURCE_NOT_FOUND\",\"statusText\":\"The resource specified cannot be found.\"}}}']\nINFO:data_fetcher.dependencies.elsapy.elsclient:Sending GET request to https://api.elsevier.com/content/abstract/doi/10.1038/s41533-020-0163-5\nINFO:data_fetcher.dependencies.elsapy.elsentity:Data loaded for https://api.elsevier.com/content/abstract/doi/10.1038/s41533-020-0163-5\nINFO:data_fetcher.dependencies.elsapy.elsclient:Sending GET request to https://api.elsevier.com/content/article/doi/10.1038/s41533-020-0163-5\nWARNING:data_fetcher.dependencies.elsapy.elsentity:HTTP 404 Error from https://api.elsevier.com/content/article/doi/10.1038/s41533-020-0163-5\nand using headers {'X-ELS-APIKey': '4719fe9f53c1bc699307a4f4c4ccf988', 'User-Agent': 'elsapy-v0.4.6', 'Accept': 'application/json'}:\n{\"service-error\":{\"status\":{\"statusCode\":\"RESOURCE_NOT_FOUND\",\"statusText\":\"The resource specified cannot be found.\"}}}\nERROR:root:ScopusFulltextSpider, getting doi = 10.1038/s41533-020-0163-5failed. Exception: ['HTTP 404 Error from https://api.elsevier.com/content/article/doi/10.1038/s41533-020-0163-5\\nand using headers {\\'X-ELS-APIKey\\': \\'4719fe9f53c1bc699307a4f4c4ccf988\\', \\'User-Agent\\': \\'elsapy-v0.4.6\\', \\'Accept\\': \\'application/json\\'}:\\n{\"service-error\":{\"status\":{\"statusCode\":\"RESOURCE_NOT_FOUND\",\"statusText\":\"The resource specified cannot be found.\"}}}']\nINFO:data_fetcher.dependencies.elsapy.elsclient:Sending GET request to https://api.elsevier.com/content/abstract/doi/10.1038/s41598-020-57976-x\nINFO:data_fetcher.dependencies.elsapy.elsentity:Data loaded for https://api.elsevier.com/content/abstract/doi/10.1038/s41598-020-57976-x\nINFO:data_fetcher.dependencies.elsapy.elsclient:Sending GET request to https://api.elsevier.com/content/article/doi/10.1038/s41598-020-57976-x\nWARNING:data_fetcher.dependencies.elsapy.elsentity:HTTP 404 Error from https://api.elsevier.com/content/article/doi/10.1038/s41598-020-57976-x\nand using headers {'X-ELS-APIKey': '4719fe9f53c1bc699307a4f4c4ccf988', 'User-Agent': 'elsapy-v0.4.6', 'Accept': 'application/json'}:\n{\"service-error\":{\"status\":{\"statusCode\":\"RESOURCE_NOT_FOUND\",\"statusText\":\"The resource specified cannot be found.\"}}}\nERROR:root:ScopusFulltextSpider, getting doi = 10.1038/s41598-020-57976-xfailed. Exception: ['HTTP 404 Error from https://api.elsevier.com/content/article/doi/10.1038/s41598-020-57976-x\\nand using headers {\\'X-ELS-APIKey\\': \\'4719fe9f53c1bc699307a4f4c4ccf988\\', \\'User-Agent\\': \\'elsapy-v0.4.6\\', \\'Accept\\': \\'application/json\\'}:\\n{\"service-error\":{\"status\":{\"statusCode\":\"RESOURCE_NOT_FOUND\",\"statusText\":\"The resource specified cannot be found.\"}}}']\nINFO:data_fetcher.dependencies.elsapy.elsclient:Sending GET request to https://api.elsevier.com/content/abstract/doi/10.1038/s41598-020-57661-z\nINFO:data_fetcher.dependencies.elsapy.elsentity:Data loaded for https://api.elsevier.com/content/abstract/doi/10.1038/s41598-020-57661-z\nINFO:data_fetcher.dependencies.elsapy.elsclient:Sending GET request to https://api.elsevier.com/content/article/doi/10.1038/s41598-020-57661-z\nWARNING:data_fetcher.dependencies.elsapy.elsentity:HTTP 404 Error from https://api.elsevier.com/content/article/doi/10.1038/s41598-020-57661-z\nand using headers {'X-ELS-APIKey': '4719fe9f53c1bc699307a4f4c4ccf988', 'User-Agent': 'elsapy-v0.4.6', 'Accept': 'application/json'}:\n{\"service-error\":{\"status\":{\"statusCode\":\"RESOURCE_NOT_FOUND\",\"statusText\":\"The resource specified cannot be found.\"}}}\nERROR:root:ScopusFulltextSpider, getting doi = 10.1038/s41598-020-57661-zfailed. Exception: ['HTTP 404 Error from https://api.elsevier.com/content/article/doi/10.1038/s41598-020-57661-z\\nand using headers {\\'X-ELS-APIKey\\': \\'4719fe9f53c1bc699307a4f4c4ccf988\\', \\'User-Agent\\': \\'elsapy-v0.4.6\\', \\'Accept\\': \\'application/json\\'}:\\n{\"service-error\":{\"status\":{\"statusCode\":\"RESOURCE_NOT_FOUND\",\"statusText\":\"The resource specified cannot be found.\"}}}']\n"
    }
   ],
   "source": [
    "from data_fetcher.scopus.scopus_metadata_spider import ScopusMetadataSpider\n",
    "from data_fetcher.scopus.scopus_fulltext_spider import ScopusFulltextSpider\n",
    "\n",
    "for sr_doi in sr_doi_list:\n",
    "    # 爬元数据\n",
    "    sms = ScopusMetadataSpider(\n",
    "        doi=sr_doi,\n",
    "        paper_id_manager=pim,\n",
    "        paper_set='hello_world'\n",
    "    )\n",
    "    sms_result = sms.execute()\n",
    "    sms.save(mgdbds)\n",
    "\n",
    "    # 爬全文，更新元数据\n",
    "    # 有的文章可能没收录全文。\n",
    "    # 请注意：一定要在校园网环境下爬才能成功！\n",
    "    # 当然并不是所有原文都能成功爬到的，爬不到会返回表示错误的json: \n",
    "    # {\"status\":{\"statusCode\":\"RESOURCE_NOT_FOUND\",\"statusText\":\"The resource specified cannot be found.\"}\n",
    "    sfs = ScopusFulltextSpider(doi=sr_doi) \n",
    "    sfs_result = sfs.execute()\n",
    "\n",
    "    if sfs_result:\n",
    "         mgdbds.query_and_update_doc(\n",
    "            docset='metadata',\n",
    "            query={'doi': sr_doi},\n",
    "            val={'$set': {'uri': sfs_result}}\n",
    "        )"
   ]
  },
  {
   "cell_type": "code",
   "execution_count": 11,
   "metadata": {},
   "outputs": [
    {
     "output_type": "stream",
     "name": "stdout",
     "text": "['metadata', 'paper_set', 'paper_id', 'id_inc']\n[{'_id': 'paper_id', 'sequence_value': 372}]\n[{'_id': ObjectId('5ea275c469801f65e85522fb'), 'set_name': 'hello_world', 'paper': [0, 1, 2, 3, 4, 158, 193, 269, 334, 371]}]\n372\n10\n"
    }
   ],
   "source": [
    "# 最终检查数据库内容\n",
    "print(mgdbds.get_db().list_collection_names())\n",
    "print(list(mgdbds.get_db()['id_inc'].find()))\n",
    "print(list(mgdbds.get_db()['paper_set'].find()))\n",
    "# 都打印出来太长了，看个总数就行\n",
    "print(len(list(mgdbds.get_db()['paper_id'].find())))\n",
    "print(len(list(mgdbds.get_db()['metadata'].find())))"
   ]
  },
  {
   "cell_type": "code",
   "execution_count": 12,
   "metadata": {},
   "outputs": [
    {
     "output_type": "stream",
     "name": "stderr",
     "text": "INFO:data_fetcher.dependencies.elsapy.elsclient:Sending GET request to https://api.elsevier.com/content/abstract/doi/10.1080/20008198.2020.1723857\nINFO:data_fetcher.dependencies.elsapy.elsentity:Data loaded for https://api.elsevier.com/content/abstract/doi/10.1080/20008198.2020.1723857\nINFO:data_fetcher.dependencies.elsapy.elsclient:Sending GET request to https://api.elsevier.com/content/abstract/doi/10.1038/s41598-020-61386-4\nINFO:data_fetcher.dependencies.elsapy.elsentity:Data loaded for https://api.elsevier.com/content/abstract/doi/10.1038/s41598-020-61386-4\nINFO:data_fetcher.dependencies.elsapy.elsclient:Sending GET request to https://api.elsevier.com/content/abstract/doi/10.1038/s41533-020-0163-5\nINFO:data_fetcher.dependencies.elsapy.elsentity:Data loaded for https://api.elsevier.com/content/abstract/doi/10.1038/s41533-020-0163-5\nINFO:data_fetcher.dependencies.elsapy.elsclient:Sending GET request to https://api.elsevier.com/content/abstract/doi/10.1038/s41598-020-57976-x\nINFO:data_fetcher.dependencies.elsapy.elsentity:Data loaded for https://api.elsevier.com/content/abstract/doi/10.1038/s41598-020-57976-x\nINFO:data_fetcher.dependencies.elsapy.elsclient:Sending GET request to https://api.elsevier.com/content/abstract/doi/10.1038/s41598-020-57661-z\nINFO:data_fetcher.dependencies.elsapy.elsentity:Data loaded for https://api.elsevier.com/content/abstract/doi/10.1038/s41598-020-57661-z\n"
    }
   ],
   "source": [
    "# 假设我们还要把good morning检索到的元数据添加到另一个\"hello_python\" paper_set中。\n",
    "# 爬虫是无需知道这些元数据是否已经在metadata集合或某个paper_set中出现过的（当然以后可以加上查重功能）\n",
    "# 因此会先爬一遍，再保存到metadata集合，再加入到\"hello_python\" paper_set。\n",
    "\n",
    "from data_fetcher.scopus.scopus_metadata_spider import ScopusMetadataSpider\n",
    "from data_fetcher.scopus.scopus_fulltext_spider import ScopusFulltextSpider\n",
    "\n",
    "for sr_doi in sr_doi_list:\n",
    "    # 爬元数据\n",
    "    sms = ScopusMetadataSpider(\n",
    "        doi=sr_doi,\n",
    "        paper_id_manager=pim,\n",
    "        paper_set='hello_python'\n",
    "    )\n",
    "    sms_result = sms.execute()\n",
    "    sms.save(mgdbds)"
   ]
  },
  {
   "cell_type": "code",
   "execution_count": 13,
   "metadata": {},
   "outputs": [
    {
     "output_type": "stream",
     "name": "stdout",
     "text": "['metadata', 'paper_set', 'paper_id', 'id_inc']\n[{'_id': 'paper_id', 'sequence_value': 372}]\n[{'_id': ObjectId('5ea275c469801f65e85522fb'), 'set_name': 'hello_world', 'paper': [0, 1, 2, 3, 4, 158, 193, 269, 334, 371]}, {'_id': ObjectId('5ea2787069801f65e85522fc'), 'set_name': 'hello_python', 'paper': [158, 193, 269, 334, 371]}]\n372\n10\n"
    }
   ],
   "source": [
    "# 最终检查数据库内容\n",
    "print(mgdbds.get_db().list_collection_names())\n",
    "print(list(mgdbds.get_db()['id_inc'].find()))\n",
    "print(list(mgdbds.get_db()['paper_set'].find()))\n",
    "# 都打印出来太长了，看个总数就行\n",
    "print(len(list(mgdbds.get_db()['paper_id'].find())))\n",
    "print(len(list(mgdbds.get_db()['metadata'].find())))"
   ]
  },
  {
   "cell_type": "code",
   "execution_count": null,
   "metadata": {},
   "outputs": [],
   "source": []
  }
 ],
 "metadata": {
  "language_info": {
   "codemirror_mode": {
    "name": "ipython",
    "version": 3
   },
   "file_extension": ".py",
   "mimetype": "text/x-python",
   "name": "python",
   "nbconvert_exporter": "python",
   "pygments_lexer": "ipython3",
   "version": "3.6.7-final"
  },
  "orig_nbformat": 2,
  "kernelspec": {
   "name": "python36764bitd53fb91182864ec1a5d6e5d91f768daf",
   "display_name": "Python 3.6.7 64-bit"
  }
 },
 "nbformat": 4,
 "nbformat_minor": 2
}